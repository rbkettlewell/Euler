{
 "cells": [
  {
   "cell_type": "code",
   "execution_count": 75,
   "metadata": {
    "collapsed": false
   },
   "outputs": [
    {
     "data": {
      "text/plain": [
       "142913828922"
      ]
     },
     "metadata": {},
     "output_type": "display_data"
    }
   ],
   "source": [
    "isPrime :: Int -> Bool\n",
    "isPrime x = l == (r - 1)\n",
    "    where l = length $ takeWhile (/=0) $ map (x `mod`) [2..r] \n",
    "          r = floor . sqrt . fromIntegral $ x\n",
    "sumPrimesLessThanN :: Int -> Int\n",
    "sumPrimesLessThanN n = foldl1 (+) . filter isPrime $ [2..(n-1)]\n",
    "sumPrimesLessThanN 2000000"
   ]
  }
 ],
 "metadata": {
  "kernelspec": {
   "display_name": "Haskell",
   "language": "haskell",
   "name": "haskell"
  }
 },
 "nbformat": 4,
 "nbformat_minor": 0
}
