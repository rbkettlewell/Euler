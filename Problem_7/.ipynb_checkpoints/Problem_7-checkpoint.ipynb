{
 "cells": [
  {
   "cell_type": "code",
   "execution_count": null,
   "metadata": {
    "collapsed": false
   },
   "outputs": [],
   "source": [
    "isPrime :: Int -> Bool\n",
    "isPrime x = (x - l)  == 2\n",
    "    where l = length $ takeWhile (/=0) $ map (x `mod`) [2..(x-1)]\n",
    "findPrime :: Int -> Int\n",
    "findPrime n = last $ take n $ filter isPrime [1..]\n",
    "findPrime 10001"
   ]
  }
 ],
 "metadata": {
  "kernelspec": {
   "display_name": "Haskell",
   "language": "haskell",
   "name": "haskell"
  }
 },
 "nbformat": 4,
 "nbformat_minor": 0
}
