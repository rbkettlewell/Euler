{
 "cells": [
  {
   "cell_type": "code",
   "execution_count": 73,
   "metadata": {
    "collapsed": false
   },
   "outputs": [
    {
     "data": {
      "text/plain": [
       "76576500"
      ]
     },
     "metadata": {},
     "output_type": "display_data"
    }
   ],
   "source": [
    "import Data.List\n",
    "\n",
    "intSqrt :: Integer -> Integer\n",
    "intSqrt = floor . sqrt . fromIntegral \n",
    "\n",
    "divisors' n = (1:) $ nub $ concat [ [x, div n x] | x <- [2..intSqrt n], rem n x == 0 ] ++ [n]\n",
    "\n",
    "triangleNumbers :: [Integer]\n",
    "triangleNumbers = takeWhile (< (10000^2)) $ map (\\n->(n*(n+1)) `div` 2) [1..]\n",
    "\n",
    "getMaxTriangleDivisor :: Int -> [Integer] -> Integer\n",
    "getMaxTriangleDivisor n xs = xs !! (fromIntegral . length . takeWhile (<n) $ map (length . divisors') xs )\n",
    "\n",
    "getMaxTriangleDivisor 500 triangleNumbers"
   ]
  },
  {
   "cell_type": "code",
   "execution_count": 63,
   "metadata": {
    "collapsed": false
   },
   "outputs": [
    {
     "data": {
      "text/plain": [
       "576"
      ]
     },
     "metadata": {},
     "output_type": "display_data"
    }
   ],
   "source": [
    "length $ divisors' 76576500"
   ]
  }
 ],
 "metadata": {
  "kernelspec": {
   "display_name": "Haskell",
   "language": "haskell",
   "name": "haskell"
  }
 },
 "nbformat": 4,
 "nbformat_minor": 0
}
