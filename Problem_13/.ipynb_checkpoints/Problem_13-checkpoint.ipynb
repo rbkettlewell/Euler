{
 "cells": [
  {
   "cell_type": "code",
   "execution_count": 80,
   "metadata": {
    "collapsed": false
   },
   "outputs": [
    {
     "data": {
      "text/plain": [
       "\"659831892672\""
      ]
     },
     "metadata": {},
     "output_type": "display_data"
    }
   ],
   "source": [
    "strList <- readFile \"numbers.txt\"\n",
    "listLines = lines strInts\n",
    "\n",
    "getNLastDigits :: Int -> [String] -> String\n",
    "getNLastDigits num xs = snd $ splitAt splitNum sumList\n",
    "    where splitNum = (length $ head xs) - num\n",
    "          sumList = show . sum . map (read :: String -> Integer) $ xs\n",
    "\n",
    "getNLastDigits 10 listLines"
   ]
  }
 ],
 "metadata": {
  "kernelspec": {
   "display_name": "Haskell",
   "language": "haskell",
   "name": "haskell"
  }
 },
 "nbformat": 4,
 "nbformat_minor": 0
}
