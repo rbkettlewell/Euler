{
 "cells": [
  {
   "cell_type": "code",
   "execution_count": 109,
   "metadata": {
    "collapsed": false
   },
   "outputs": [
    {
     "data": {
      "text/plain": [
       "\"5537376230\""
      ]
     },
     "metadata": {},
     "output_type": "display_data"
    }
   ],
   "source": [
    "strList <- readFile \"numbers.txt\"\n",
    "listLines = lines strInts\n",
    "\n",
    "getNLastDigits :: Int -> [String] -> String\n",
    "getNLastDigits num xs = take num $ sumList\n",
    "    where sumList = show . sum . map (read :: String -> Integer) $ xs\n",
    "\n",
    "getNLastDigits 10 listLines"
   ]
  },
  {
   "cell_type": "code",
   "execution_count": 81,
   "metadata": {
    "collapsed": true
   },
   "outputs": [],
   "source": []
  }
 ],
 "metadata": {
  "kernelspec": {
   "display_name": "Haskell",
   "language": "haskell",
   "name": "haskell"
  }
 },
 "nbformat": 4,
 "nbformat_minor": 0
}
